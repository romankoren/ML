{
 "cells": [
  {
   "cell_type": "markdown",
   "metadata": {
    "_uuid": "478f0929dd095b53a8e89dcddf7f503dd11203ab"
   },
   "source": [
    "<span style=\"color:springgreen\">Корнеев Роман Александрович</span>\n",
    "\n",
    "<span style = \"color:springgreen\"> М80-304Б-17 </span>"
   ]
  },
  {
   "cell_type": "markdown",
   "metadata": {},
   "source": [
    "<h1><center>Лабораторная работа №2</center></h1>"
   ]
  },
  {
   "cell_type": "markdown",
   "metadata": {},
   "source": [
    "## Реализации"
   ]
  },
  {
   "cell_type": "code",
   "execution_count": 1,
   "metadata": {},
   "outputs": [],
   "source": [
    "import numpy as np"
   ]
  },
  {
   "cell_type": "code",
   "execution_count": 2,
   "metadata": {},
   "outputs": [],
   "source": [
    "def Accuracy(Y_val, Y_pred):\n",
    "    TP = (Y_val * Y_pred).sum()\n",
    "    TN = np.logical_not(Y_val | Y_pred).sum()\n",
    "    return (TP + TN) / len(Y_val)"
   ]
  },
  {
   "cell_type": "markdown",
   "metadata": {},
   "source": [
    "### Логистическая регрессия"
   ]
  },
  {
   "cell_type": "code",
   "execution_count": 3,
   "metadata": {},
   "outputs": [],
   "source": [
    "def L2_norm(vector):\n",
    "    return (vector**2).sum()\n",
    "\n",
    "def L1_norm(vector):\n",
    "    return np.abs(vec).sum()\n",
    "\n",
    "def L2_grad(vector):\n",
    "    return vector\n",
    "\n",
    "def L1_grad(vector):\n",
    "    return vector / np.abs(vector)"
   ]
  },
  {
   "cell_type": "code",
   "execution_count": 4,
   "metadata": {},
   "outputs": [],
   "source": [
    "def sigmoid(x):\n",
    "    return np.exp(-np.logaddexp(0, -x))\n",
    "\n",
    "def logit_loss(wx, y_real):\n",
    "    return np.log(1.0 + np.exp(-wx*y_real)).sum()\n",
    "\n",
    "def logit_grad(x, y, w):\n",
    "    koeff = (y * sigmoid(-y*x.dot(w)))\n",
    "    koeff = koeff.reshape((koeff.shape[0], 1)) # make a column\n",
    "    return -(koeff * x).sum(axis = 0) # full gradient - sum of gradients on ever x[i]"
   ]
  },
  {
   "cell_type": "code",
   "execution_count": 5,
   "metadata": {},
   "outputs": [],
   "source": [
    "class GradientDescent:\n",
    "    def __init__(self, speed, gradient_func, regulasator=None, \n",
    "                 C=10.0, eps = 0.001, maxsteps=250):\n",
    "        self.speed = speed\n",
    "        self.function = gradient_func\n",
    "        self.maxsteps = maxsteps\n",
    "        self.eps = eps\n",
    "        self.w = None\n",
    "        if regulasator == \"l1\":\n",
    "            self.regulasator = lambda w:  L1_grad(w) / C\n",
    "        elif regulasator == \"l2\":\n",
    "            self.regulasator = lambda w: L2_grad(w) / C\n",
    "        else:\n",
    "            self.regulasator = lambda w: 0.0\n",
    "    \n",
    "    def fit(self, X_train, Y_train):\n",
    "        # init w0\n",
    "        w0 = np.zeros(X_train.shape[1])\n",
    "        w = np.random.random(X_train.shape[1])\n",
    "        k = 1\n",
    "        while np.linalg.norm(w - w0) > self.eps and k <= self.maxsteps:\n",
    "            w0 = w\n",
    "            temp = self.speed * ((1 / k)**0.5) # like vowpal step temp\n",
    "            w = w - temp*(self.function(X_train, Y_train, w) + self.regulasator(w))\n",
    "            k += 1\n",
    "        self.w = w\n",
    "        return w\n",
    "    \n",
    "    def get_weights(self):\n",
    "        return self.w"
   ]
  },
  {
   "cell_type": "code",
   "execution_count": 6,
   "metadata": {},
   "outputs": [],
   "source": [
    "class CustomLogisticRegression:\n",
    "    # main params\n",
    "    def __init__(self, speed = 1, reg_type=None, C=0.5, eps=0.001, maxsteps=2000):\n",
    "        # init solver\n",
    "        self.solver = GradientDescent(speed, logit_grad, reg_type, C, eps, maxsteps)\n",
    "        # init weight  variable\n",
    "        self.w = None\n",
    "        \n",
    "    # training\n",
    "    def fit(self, X_train, Y_train):\n",
    "        # convert 0 to -1 for algo\n",
    "        Y = np.array(Y_train)\n",
    "        Y[Y_train == 0] = -1\n",
    "        # add np.ones colomn for w0 weight:\n",
    "        x0 = np.ones((X_train.shape[0], 1))\n",
    "        X = np.hstack((x0, X_train))\n",
    "        # train weight by gradient descent\n",
    "        self.w = self.solver.fit(X, Y)\n",
    "        return self\n",
    "    \n",
    "    # returns predictes classes\n",
    "    def predict(self, X_val, border = 0):\n",
    "        # add np.ones colomn for w0 weight:\n",
    "        x0 = np.ones((X_val.shape[0], 1))\n",
    "        X = np.hstack((x0, X_val))\n",
    "        # <w, x> product for all examples\n",
    "        Xw = X.dot(self.w)\n",
    "        # make predict: 0 - negative, 1 - positive\n",
    "        Y_pred = np.zeros(Xw.shape).astype(np.int8)\n",
    "        # a(x) = [<w,x> > t], t - border\n",
    "        Y_pred[Xw >= border] = 1\n",
    "        return Y_pred\n",
    "    \n",
    "    # probs of positive class\n",
    "    def predict_proba(self, X_val):\n",
    "        # add np.ones colomn for w0 weight:\n",
    "        x0 = np.ones((X_val.shape[0], 1))\n",
    "        X = np.hstack((x0, X_val))\n",
    "        # <w, x> product for all examples\n",
    "        Xw = X.dot(self.w)\n",
    "        # return proba\n",
    "        return sigmoid(Xw)\n",
    "    \n",
    "    # compute metrics\n",
    "    def score(self, X_val, Y_val, metric=Accuracy):\n",
    "        return metric(Y_val, self.predict(X_val))\n",
    "    \n",
    "    def weights(self):\n",
    "        return self.w\n",
    "\n",
    "    # for fun\n",
    "    def __str__(self):\n",
    "        return \"Logistic Regression model with gradient descent!\"\n",
    "    \n",
    "    def __repr__(self):\n",
    "        return \"Logistic Regression\""
   ]
  },
  {
   "cell_type": "markdown",
   "metadata": {},
   "source": [
    "### K Ближайших соседей"
   ]
  },
  {
   "cell_type": "code",
   "execution_count": 7,
   "metadata": {},
   "outputs": [],
   "source": [
    "def minkovski(x1, x2, p = 3):\n",
    "    return (np.abs(x1 - x2) ** p).T.sum(axis = 0)**(1.0 / p)\n",
    "\n",
    "def euclid(x1, x2):\n",
    "    return minkovski(x1, x2, 2)"
   ]
  },
  {
   "cell_type": "code",
   "execution_count": 8,
   "metadata": {},
   "outputs": [],
   "source": [
    "def biquadratical_kernel(t):\n",
    "    return (-t**2 + 1)**2\n",
    "\n",
    "def triquadratical_kernel(t):\n",
    "    return (-t**2 + 1)**3\n",
    "    \n",
    "def triqubical_kernel(t):\n",
    "    return (-t**3 + 1)**3"
   ]
  },
  {
   "cell_type": "code",
   "execution_count": 9,
   "metadata": {},
   "outputs": [],
   "source": [
    "# stay parsen kerel None for simple KNN algo\n",
    "class CustomKNN:\n",
    "    def __init__(self, k = 5, metric = euclid, parsen_kernel = None):\n",
    "        self.k = k\n",
    "        self.p = metric\n",
    "        # algo shoud remember all data\n",
    "        self.X = None\n",
    "        self.Y = None\n",
    "        if parsen_kernel is None:\n",
    "            # all elems have equal weight\n",
    "            self.Kp = lambda t: 1.0\n",
    "        else:\n",
    "            # parsen method\n",
    "            self.Kp = parsen_kernel\n",
    "    \n",
    "    def fit(self, X_train, Y_train):\n",
    "        # just remmember data:\n",
    "        self.X = X_train\n",
    "        self.Y = Y_train\n",
    "        # check correct of k\n",
    "        self.k = min(self.k, len(self.Y) - 1)\n",
    "        return self\n",
    "\n",
    "    def predict(self, X_val):\n",
    "        Y_pred = np.zeros(len(X_val)).astype(np.int8)\n",
    "        # for each elem in X predict result:\n",
    "        for i in np.arange(len(X_val)):\n",
    "            Y_pred[i] = self.predict_one(X_val[i])\n",
    "        return Y_pred\n",
    "\n",
    "    def predict_one(self, x):\n",
    "        # compute all distances\n",
    "        r_x = self.p(self.X, x)\n",
    "        # take sorted order of dists in idxs\n",
    "        order = np.argsort(r_x)\n",
    "        # width for parsen is distance to k+1 neiborh:\n",
    "        h = r_x[order[self.k]]\n",
    "        # idxs of first k elems neibrh\n",
    "        order = order[:self.k]\n",
    "        # take first k Y:\n",
    "        Y_k = self.Y[order]\n",
    "        # compute parsen function for all neiborh:\n",
    "        K = self.Kp(r_x[order] / h)\n",
    "        \n",
    "        # compute functional for positives elems\n",
    "        pos_w = (K * Y_k).sum()\n",
    "        # compute functional for negatives elems\n",
    "        neg_w = (K * np.logical_not(Y_k)).sum()\n",
    "        \n",
    "        # class with more functional wins\n",
    "        return int(pos_w > neg_w) # 0 or 1\n",
    "\n",
    "\n",
    "    def score(self, X_val, Y_val, metric=Accuracy):\n",
    "        return metric(Y_val, self.predict(X_val))\n",
    "\n",
    "    def __str__(self):\n",
    "        return \"k Nearest Neighbor\"\n",
    "\n",
    "    def __repr__(self):\n",
    "        return \"KNN\""
   ]
  },
  {
   "cell_type": "markdown",
   "metadata": {},
   "source": [
    "### Решающее дерево"
   ]
  },
  {
   "cell_type": "code",
   "execution_count": 10,
   "metadata": {},
   "outputs": [],
   "source": [
    "def bingini(*args):\n",
    "    # for binary classification: p(-) = 1 - p(+)=>\n",
    "    # Gini = 2 * p(+) * (1 - p(+))\n",
    "    if len(args) == 2:\n",
    "        p = args[0] / (args[1]+args[0])\n",
    "    else:\n",
    "        p = args[0].sum() / args[0].shape[0]\n",
    "    return 2 * p * (1 - p)\n",
    "\n",
    "def binentropy(*args):\n",
    "    # for binary classification: p(-) = 1 - p(+)=>\n",
    "    # Entropy = -p(+)log(p(+)) - (1 - p(+))log(1 - p(+))\n",
    "    if len(args) == 2:\n",
    "        p = args[0] / (args[1]+args[0])\n",
    "    else:\n",
    "        p = args[0].sum() / args[0].shape[0]\n",
    "    return -p*np.log(p) - (1 - p)*np.log(p)"
   ]
  },
  {
   "cell_type": "code",
   "execution_count": 11,
   "metadata": {},
   "outputs": [],
   "source": [
    "class CustomNode:\n",
    "    def __init__(self, idxs=None, pos=None, neg=None, c=None):\n",
    "        self.predicat = None\n",
    "        self.left = None\n",
    "        self.right = None\n",
    "        self.positives = pos\n",
    "        self.negatives = neg\n",
    "        self.c = c\n",
    "        self.idxs = idxs\n",
    "\n",
    "    # setters:\n",
    "    def set_left(self, left_node):\n",
    "        self.left = left_node\n",
    "\n",
    "    def set_idxs(self, idxs):\n",
    "        self.idxs = idxs\n",
    "\n",
    "    def set_right(self, right_node):\n",
    "        self.right = right_node\n",
    "\n",
    "    def set_predicat(self, predicat):\n",
    "        self.predicat = predicat\n",
    "\n",
    "    def set_class(self, c):\n",
    "        self.c = c\n",
    "        \n",
    "    def set_positives(self, positives):\n",
    "        self.positives = positives\n",
    "        \n",
    "    def set_negatives(self, negatives):\n",
    "        self.negatives = negatives\n",
    "\n",
    "    #getters:\n",
    "    def get_left(self):\n",
    "        return self.left\n",
    "\n",
    "    def get_right(self):\n",
    "        return self.right\n",
    "\n",
    "    def get_class(self):\n",
    "        return self.c\n",
    "\n",
    "    def get_idxs(self):\n",
    "        return self.idxs\n",
    "    \n",
    "    def get_positives(self):\n",
    "        return self.positives\n",
    "        \n",
    "    def get_negatives(self):\n",
    "        return self.negatives\n",
    "    \n",
    "    def get_len(self):\n",
    "        return self.idxs.shape[0]\n",
    "\n",
    "    #checkers:\n",
    "    def is_leaf(self):\n",
    "        return self.predicat is None\n",
    "\n",
    "    def is_inner(self):\n",
    "        return not self.is_leaf()\n",
    "    \n",
    "    def make_leaf(self):\n",
    "        self.predicat = None\n",
    "        self.left = None\n",
    "        self.right = None"
   ]
  },
  {
   "cell_type": "code",
   "execution_count": 12,
   "metadata": {},
   "outputs": [],
   "source": [
    "class CustomDescisionTree:\n",
    "    def __init__(self, criteria=bingini, pruning_cost=None, min_samples_split=2):\n",
    "        # we think categorical value if unique vals < CATEGORICAL_LEN\n",
    "        self.CATEGORICAL_LEN = 20\n",
    "        self.H = criteria\n",
    "        self.root = None\n",
    "        self.min_split = min_samples_split\n",
    "        self.is_categorical = None\n",
    "        self.categorical_vals = {}\n",
    "        if pruning_cost is None:\n",
    "            self.pruning = False\n",
    "        else:\n",
    "            self.pruning = True\n",
    "            self.alpha = pruning_cost\n",
    "            \n",
    "    def node_classify(self, node):\n",
    "        # set class num node:\n",
    "        positives = node.get_positives()\n",
    "        negatives = node.get_negatives()\n",
    "        if positives >= negatives:\n",
    "            node.set_class(1)\n",
    "        else:\n",
    "            node.set_class(0)\n",
    "            \n",
    "    # create root and recursive building tree\n",
    "    def build_tree(self):\n",
    "        # create root with all nums\n",
    "        self.root = CustomNode(np.arange(self.Y.shape[0]))\n",
    "        self.root.set_positives(self.Y.sum())\n",
    "        negatives = self.root.get_len() - self.root.get_positives()\n",
    "        self.root.set_negatives(negatives)\n",
    "        # recursive function of creation\n",
    "        self.recursive_creation(self.root)\n",
    "            \n",
    "            \n",
    "    # may be modifed\n",
    "    def stop_criteria(self, node):\n",
    "        # if num of eelems in node less than min required for split => 1\n",
    "        if node.get_len() < self.min_split:\n",
    "            return True\n",
    "        # if all elems in node has only one class => 1\n",
    "        positives = node.get_positives()\n",
    "        negatives = node.get_negatives()\n",
    "        return (negatives==0 or positives==0)\n",
    "    \n",
    "    # union of search_best_split() and split_node()\n",
    "    def search_best_split(self, node):\n",
    "        X_iter = self.X[node.get_idxs()]\n",
    "        Y_iter = self.Y[node.get_idxs()]\n",
    "        # compute node info criteria\n",
    "        positiv = node.get_positives()\n",
    "        negativ = node.get_negatives()\n",
    "        node_info = self.H(positiv, negativ)\n",
    "        # best params\n",
    "        best_gain = 0.0\n",
    "        best_j, best_t = 0, 0.0\n",
    "        # search in all features:\n",
    "        for j in range(X_iter.shape[1]):\n",
    "            column = X_iter[:, j]\n",
    "            # fast search if categorical:\n",
    "            if self.is_categorical[j]:\n",
    "                possible_vals = self.categorical_vals[j]\n",
    "                for i in range(1, possible_vals.shape[0]):\n",
    "                    mask = column < possible_vals[i]\n",
    "                    Y_r = Y_iter[mask]\n",
    "                    if Y_r.shape[0] == 0 or Y_r.shape[0] == Y_iter.shape[0]:\n",
    "                        continue\n",
    "                    right_pos = Y_r.sum()\n",
    "                    right_neg = Y_r.shape[0] - right_pos\n",
    "                    right_gini = self.H(right_pos, right_neg)\n",
    "                    left_gini = self.H(positiv - right_pos, negativ - right_neg)\n",
    "                    # Q(Rm, j, t) = H(Rm) - (|Rl|/|Rm|)H(Rl) - (|Rr|/|Rm|)H(Rr)\n",
    "                    gain = node_info\n",
    "                    gain -= (Y_r.shape[0]*right_gini/node.get_len())\n",
    "                    gain -= (1 - Y_r.shape[0]/node.get_len())*left_gini\n",
    "                    if gain > best_gain:\n",
    "                        best_t = possible_vals[i]\n",
    "                        best_j = j\n",
    "                        best_gain = gain  \n",
    "                continue\n",
    "            # else standart search:\n",
    "            sorted_col = np.argsort(column)\n",
    "            right_neg = 0\n",
    "            right_pos = 0\n",
    "            last_t = column[sorted_col[0]]\n",
    "            for i in range(1, column.shape[0]):\n",
    "                if Y_iter[sorted_col[i-1]]:\n",
    "                    right_pos += 1\n",
    "                else:\n",
    "                    right_neg += 1\n",
    "                    \n",
    "                idx = sorted_col[i]\n",
    "                if column[idx] == last_t:\n",
    "                    continue\n",
    "                last_t = column[idx]\n",
    "                # compute gain:\n",
    "                right_gini = self.H(right_pos, right_neg)\n",
    "                left_gini = self.H(positiv - right_pos, negativ - right_neg)\n",
    "                # Q(Rm, j, t) = H(Rm) - (|Rl|/|Rm|)H(Rl) - (|Rr|/|Rm|)H(Rr)\n",
    "                gain = node_info\n",
    "                gain -= (i*right_gini/node.get_len()) + (1 - i/node.get_len())*left_gini\n",
    "                # needs best gain split\n",
    "                if gain > best_gain:\n",
    "                    best_t = column[idx]\n",
    "                    best_j = j\n",
    "                    best_gain = gain\n",
    "                    \n",
    "        if best_gain > 0.0:\n",
    "            return best_j, best_t\n",
    "    \n",
    "    # create 2 new nodes: left and right\n",
    "    def split_node(self, node, j, t):\n",
    "        # set predicat rule for node\n",
    "        predicat = lambda x: x[j] < t\n",
    "        node.set_predicat(predicat)\n",
    "        # get split mask\n",
    "        column = self.X[node.get_idxs(), j]\n",
    "        mask = column < t\n",
    "        # make idxs for left and right\n",
    "        right_idxs = node.get_idxs()[mask]\n",
    "        left_idxs = node.get_idxs()[np.logical_not(mask)]\n",
    "        #compute positives:\n",
    "        right_pos = self.Y[right_idxs].sum()\n",
    "        left_pos = self.Y[left_idxs].sum()\n",
    "        # compute negatives\n",
    "        right_neg = right_idxs.shape[0] - right_pos\n",
    "        left_neg = left_idxs.shape[0] - left_pos\n",
    "        # create nodes\n",
    "        node.set_left(CustomNode(left_idxs, left_pos, left_neg))\n",
    "        node.set_right(CustomNode(right_idxs, right_pos, right_neg))\n",
    "    \n",
    "    # recursive function for nodes:\n",
    "    def recursive_creation(self, node):\n",
    "        # classify another node:\n",
    "        self.node_classify(node)\n",
    "        # stop criteria for building\n",
    "        if self.stop_criteria(node):\n",
    "            return\n",
    "        #else find best split\n",
    "        jt = self.search_best_split(node)\n",
    "        # if we cant find best split - stop\n",
    "        if jt is None:\n",
    "            return\n",
    "\n",
    "        # split node for 2 child:\n",
    "        self.split_node(node, *jt)\n",
    "        # start recursion for left:\n",
    "        self.recursive_creation(node.get_left())\n",
    "        # for right:\n",
    "        self.recursive_creation(node.get_right())\n",
    "    \n",
    "    def tree_pruning(self, node):\n",
    "        # this node R_a(t) computing:\n",
    "        # R = sum([y != c]) / |N|\n",
    "        if node.get_class():\n",
    "            R_a = node.get_negatives() / node.get_len()\n",
    "        else:\n",
    "            R_a = node.get_positives() / node.get_len()\n",
    "        # R_a(t) = R(t) + a\n",
    "        R_a += self.alpha\n",
    "        # at first go while not leaf:\n",
    "        if node.is_leaf():\n",
    "            # return R_a(leaf)\n",
    "            return R_a\n",
    "        # R_a(Tl) and R_a(Tr)\n",
    "        R_al = self.tree_pruning(node.get_left())\n",
    "        R_ar = self.tree_pruning(node.get_right())\n",
    "        # if R_a(t) < R_a(T) => pruning\n",
    "        if R_a <= R_al + R_ar:\n",
    "            node.make_leaf()\n",
    "            return R_a\n",
    "        # else do nothing\n",
    "        return R_al + R_ar\n",
    "    \n",
    "    def search_categorical(self):\n",
    "        self.is_categorical = np.zeros(self.X.shape[1]).astype(np.int8)\n",
    "        for j in range(self.X.shape[1]):\n",
    "            uniq = np.unique(self.X[:, j])\n",
    "            if uniq.shape[0] < self.CATEGORICAL_LEN:\n",
    "                self.categorical_vals[j] = uniq\n",
    "                self.is_categorical[j] = 1\n",
    "            \n",
    "\n",
    "    def fit(self, X_train, Y_train):\n",
    "        # temp sets for comfort\n",
    "        self.X = X_train\n",
    "        self.Y = Y_train\n",
    "        # we will store only idxs while training in nodes =>\n",
    "        # make idxs column for comfort:\n",
    "        self.idxs = np.arange(X_train.shape[0])\n",
    "        # for speed search categorical\n",
    "        self.search_categorical()\n",
    "        # build tree \n",
    "        self.build_tree()\n",
    "        # pruning tree\n",
    "        if self.pruning:\n",
    "            self.tree_pruning(self.root)\n",
    "        #  delete temp sets:\n",
    "        #self.free_memory(root)\n",
    "        del self.X\n",
    "        del self.Y\n",
    "        del self.idxs\n",
    "        return self\n",
    "\n",
    "    def predict(self, X_val):\n",
    "        Y_pred = np.zeros(X_val.shape[0]).astype(np.int8)\n",
    "        # for each elem in X predict result:\n",
    "        for i in np.arange(X_val.shape[0]):\n",
    "            Y_pred[i] = self.predict_one(X_val[i])\n",
    "        return Y_pred\n",
    "\n",
    "    def predict_one(self, x):\n",
    "        node = self.root\n",
    "        while node.is_inner():\n",
    "            if node.predicat(x):\n",
    "                node = node.get_right()\n",
    "            else:\n",
    "                node = node.get_left()\n",
    "        # if in leaf:\n",
    "        return node.get_class()\n",
    "\n",
    "    def score(self, X_val, Y_val, metric=Accuracy):\n",
    "        return metric(Y_val, self.predict(X_val))\n",
    "\n",
    "    def __str__(self):\n",
    "        return \"Decision Tree\"\n",
    "\n",
    "    def __repr__(self):\n",
    "        return \"Tree\""
   ]
  },
  {
   "cell_type": "markdown",
   "metadata": {},
   "source": [
    "### Метод опорных векторов"
   ]
  },
  {
   "cell_type": "code",
   "execution_count": 13,
   "metadata": {},
   "outputs": [],
   "source": [
    "class CustomSMO:\n",
    "    def __init__(self, X, Y, kernel, C, eps, maxsteps, linear):\n",
    "        self.K = kernel\n",
    "        self.C = C\n",
    "        self.tol = eps\n",
    "        self.maxsteps = maxsteps\n",
    "        self.X = X\n",
    "        self.Y = Y\n",
    "        self.linear = linear\n",
    "        self.l = np.zeros(Y.shape)\n",
    "        self.e_cache = -Y.astype(np.float64) # zero prediction - y\n",
    "        #self.n = len(X)\n",
    "        self.w0 = 0.0\n",
    "        if linear:\n",
    "            self.w = np.zeros(X.shape[1])\n",
    "\n",
    "\n",
    "    def KKT_violated(self, idx):\n",
    "        r =  self.Y[idx] * self.e_cache[idx]\n",
    "        l = self.l[idx]\n",
    "        # if (M < 1 - tol & l < C) || (M > 1 + tol & l > 0) => KKT violated\n",
    "        # tol - accuracy of computing\n",
    "        return (l < self.C and r < -self.tol) or (l > 0.0 and r > self.tol)\n",
    "\n",
    "    # search by all element ones\n",
    "    def first_heuristic_one(self):\n",
    "        for idx in range(self.l.shape[0]):\n",
    "            if self.KKT_violated(idx):\n",
    "                yield idx\n",
    "\n",
    "    # search by all non-bound elements \n",
    "    def first_heuristic_two(self):\n",
    "        # i think here loop faster then pre-choice by numpy\n",
    "        # because this loop more effective\n",
    "        for idx in range(self.l.shape[0]):\n",
    "            if 0.0 < self.l[idx] < self.C:\n",
    "                if self.KKT_violated(idx):\n",
    "                    yield idx\n",
    "\n",
    "    # search elem that maximaze |E1 - E2| from non-boundary\n",
    "    def second_heuristic_one(self, idx):\n",
    "        # search |E1 - E2| of each elem\n",
    "        dE = np.abs(self.e_cache - self.e_cache[idx])\n",
    "        # all boundary elems not interesting\n",
    "        dE[(self.l >= self.C) | (self.l <= 0.0)] = 0.0\n",
    "        # return i2 = argmax|E1 - E2|\n",
    "        return np.argmax(dE)\n",
    "\n",
    "    def second_heuristic_two(self, idx):\n",
    "        mask = (self.l < self.C) & (self.l > 0.0)\n",
    "        mask[idx] = False\n",
    "        idxes = np.nonzero(mask)[0]\n",
    "        order = np.random.permutation(len(idxes))\n",
    "        return idxes[order]\n",
    "\n",
    "\n",
    "    def second_heuristic_three(self, idx):\n",
    "        #if second heuristic without result, get idxs without elems from second\n",
    "        # it will faster\n",
    "        mask = (self.l >= self.C) | (self.l <= 0.0)\n",
    "        mask[idx] = False\n",
    "        idxes = np.nonzero(mask)[0]\n",
    "        order = np.random.permutation(len(idxes))\n",
    "        return idxes[order]\n",
    "\n",
    "    def get_weights(self):\n",
    "        if self.linear:\n",
    "            return self.w\n",
    "\n",
    "    def get_support(self):\n",
    "        # returns only support vctors with params if you \n",
    "        # dont get them after train\n",
    "        mask = self.l > 0.0\n",
    "        return self.X[mask], self.Y[mask], self.l[mask], self.w0\n",
    "\n",
    "    # return lambdas\n",
    "    def get_coeffs(self):\n",
    "        return self.l\n",
    "\n",
    "    \n",
    "    def optimize_two(self, i1, i2):\n",
    "        # it emulates machine e in computations\n",
    "        eps = 0.00000000000001\n",
    "\n",
    "        y1 = self.Y[i1]\n",
    "        y2 = self.Y[i2]\n",
    "        x1 = self.X[i1]\n",
    "        x2 = self.X[i2]\n",
    "        l1 = self.l[i1]\n",
    "        l2 = self.l[i2]\n",
    "        E1 = self.e_cache[i1]\n",
    "        E2 = self.e_cache[i2]\n",
    "\n",
    "        # compute L H\n",
    "        if y1 == y2:\n",
    "            L = max(0.0, l2 + l1 - self.C)\n",
    "            H = min(self.C, l2 + l1)\n",
    "        else:\n",
    "            L = max(0.0, l2 - l1)\n",
    "            H = min(self.C, self.C + l2 - l1)\n",
    "        if L == H:\n",
    "            return False\n",
    "\n",
    "        # eta\n",
    "        nu = self.K(x1, x1) + self.K(x2, x2) - 2.0*self.K(x1, x2)\n",
    "\n",
    "        # compute l2\n",
    "        if nu > 0.0:\n",
    "            l2 += y2 * (E1 - E2) / nu\n",
    "            if l2 < L:\n",
    "                l2 = L\n",
    "            elif l2 > H:\n",
    "                l2 = H\n",
    "        else:\n",
    "            c1 = nu/2\n",
    "            c2 = y2 * (E1 - E2) + nu * l2\n",
    "            Lobj = c2*L - c1*L*L\n",
    "            Hobj = c2*H - c1*H*H\n",
    "            if Lobj > Hobj + eps:\n",
    "                l2 = L\n",
    "            elif Lobj < Hobj - eps:\n",
    "                l2 = H\n",
    "\n",
    "        if np.abs(l2 - self.l[i2]) < eps*(l2 + self.l[i2] + eps):\n",
    "            return False\n",
    "\n",
    "        # compute l1\n",
    "        l1 -= y1*y2*(l2 - self.l[i2])\n",
    "        \n",
    "        if l1 < 0.0:\n",
    "            l2 += y1*y2*l1\n",
    "            l1 = 0.0\n",
    "        elif l1 > self.C:\n",
    "            l2 += y1*y2*(l1 - self.C)\n",
    "            l1 = self.C\n",
    "\n",
    "        # update w0:\n",
    "        b1 = self.w0 + E1 + y1*(l1 - self.l[i1])*self.K(x1, x1) + y2*(l2 - self.l[i2])*self.K(x1, x2)\n",
    "        b2 = self.w0 + E2 + y1*(l1 - self.l[i1])*self.K(x1, x2) + y2*(l2 - self.l[i2])*self.K(x2, x2)\n",
    "        if l1 > 0.0 and l1 < self.C:\n",
    "            bnew = b1\n",
    "        elif l2 > 0.0 and l2 < self.C:\n",
    "            bnew = b2\n",
    "        else:\n",
    "            bnew = (b1 + b2) / 2.0\n",
    "        \n",
    "        dw0 = bnew - self.w0\n",
    "        self.w0 = bnew\n",
    "\n",
    "        # update E_cache\n",
    "        t1 = y1*(l1 - self.l[i1])\n",
    "        t2 = y2*(l2 - self.l[i2])\n",
    "        \n",
    "        self.e_cache += t1*self.K(self.X, x1) + t2*self.K(self.X, x2) - dw0\n",
    "        \n",
    "        #update w:\n",
    "        if self.linear:\n",
    "            self.w += t1*x1 + t2*x2\n",
    "        # update lambdas:\n",
    "        self.l[i1] = l1\n",
    "        self.l[i2] = l2\n",
    "\n",
    "        return True\n",
    "            \n",
    "    # search 2 lambdas for optimize and change them\n",
    "    def train(self):\n",
    "        steps = 0\n",
    "        non_bound_loop = True\n",
    "        # main loop\n",
    "        while steps < self.maxsteps:\n",
    "            non_bound_loop ^= True\n",
    "            # outer loops searches i1:\n",
    "            if not non_bound_loop:\n",
    "                # h1-1\n",
    "                changed = False\n",
    "                for idx1 in self.first_heuristic_one():\n",
    "                    # h2-1\n",
    "                    idx2 = self.second_heuristic_one(idx1)\n",
    "                    if self.optimize_two(idx1, idx2):\n",
    "                        changed = True\n",
    "                        continue\n",
    "                    # h2-2,3 together if h2-1 not worked\n",
    "                    # concat idxs of heuristics in sequence\n",
    "                    extra_heuristics = np.concatenate([\n",
    "                        self.second_heuristic_two(idx1),\n",
    "                        self.second_heuristic_three(idx1)\n",
    "                    ])\n",
    "\n",
    "                    for idx2 in extra_heuristics:\n",
    "                        if self.optimize_two(idx1, idx2):\n",
    "                            changed = True\n",
    "                            break\n",
    "                steps += 1\n",
    "                # if nothing changed - work done\n",
    "                if not changed:\n",
    "                    break\n",
    "            else:\n",
    "                # h1-2\n",
    "                # while changing itterate non-bound elements\n",
    "                while changed and steps < self.maxsteps:\n",
    "                    changed = False\n",
    "                    # itterate non-bound elements\n",
    "                    for idx1 in self.first_heuristic_two():\n",
    "                        # h2-1\n",
    "                        idx2 = self.second_heuristic_one(idx1)\n",
    "                        if self.optimize_two(idx1, idx2):\n",
    "                            changed = True\n",
    "                            continue\n",
    "                        # h2-2,3 together if h2-1 not worked\n",
    "                        # concat idxs of heuristics in sequence\n",
    "                        extra_heuristics = np.concatenate([\n",
    "                            self.second_heuristic_two(idx1),\n",
    "                            self.second_heuristic_three(idx1)\n",
    "                        ])\n",
    "                        for idx2 in extra_heuristics:\n",
    "                            if self.optimize_two(idx1, idx2):\n",
    "                                changed = True\n",
    "                                break\n",
    "                    steps += 1\n",
    "        # after train return support vectors with lambdas and Y\n",
    "        mask = self.l > 0.0\n",
    "        return self.X[mask], self.Y[mask], self.l[mask], self.w0"
   ]
  },
  {
   "cell_type": "code",
   "execution_count": 14,
   "metadata": {},
   "outputs": [],
   "source": [
    "def linear_kernel(x1, x2):\n",
    "    return x1.dot(x2.T)\n",
    "\n",
    "def rbf_kernel(x1, x2, gamma):\n",
    "    if len(x1.shape) == 1:\n",
    "        x1r = x1.reshape((1, x1.shape[0]))\n",
    "    else:\n",
    "        x1r = x1\n",
    "    if len(x2.shape) == 1:\n",
    "        x2r = x2.reshape((1, x2.shape[0]))\n",
    "    else:\n",
    "        x2r = x2\n",
    "    ans = np.zeros((x1r.shape[0], x2r.shape[0]))\n",
    "    for i in np.arange(x1r.shape[0]):\n",
    "        # \n",
    "        ans[i] = np.exp(-gamma  * ((x2r - x1r[i])**2).T.sum(axis = 0))\n",
    "    if len(x1.shape) == 1:\n",
    "        ans = ans[0]\n",
    "    if len(x2.shape) == 1:\n",
    "        ans = ans.T[0]\n",
    "    return ans"
   ]
  },
  {
   "cell_type": "code",
   "execution_count": 15,
   "metadata": {},
   "outputs": [],
   "source": [
    "class CustomSVM:\n",
    "    def __init__(self, kernel = None, C=1.0, eps = 0.001, maxsteps=1000):\n",
    "        self.C = C\n",
    "        self.linear = False\n",
    "        if kernel is None:\n",
    "            kernel = lambda x1, x2: x1.dot(x2.T)\n",
    "            self.linear = True\n",
    "        self.K = kernel\n",
    "        self.w = None\n",
    "        self.w0 = None\n",
    "        self.l = None\n",
    "        self.svX = None\n",
    "        self.svY = None\n",
    "        self.maxsteps = maxsteps\n",
    "        self.eps = eps\n",
    "    \n",
    "    def weights(self):\n",
    "        if self.linear:\n",
    "            return np.append(self.w0, self.w)\n",
    "        \n",
    "    def predict(self, X_val, border = 0):\n",
    "        # make predict: 0 - negative, 1 - positive\n",
    "        Y_pred = np.zeros(X_val.shape[0]).astype(np.int8)\n",
    "        if self.linear:\n",
    "            x0 = np.ones((X_val.shape[0], 1))\n",
    "            X = np.hstack((x0, X_val))\n",
    "            # <w, x> product for all examples\n",
    "            Xw = X.dot(np.append(-self.w0, self.w))\n",
    "            # a(x) = [<w,x> > t], t - border\n",
    "            Y_pred[Xw >= border] = 1\n",
    "            return Y_pred\n",
    "        else:\n",
    "            yl = (self.svY * self.l).reshape((self.svY.shape[0], 1))\n",
    "            U = self.K(yl * self.svX, X_val).sum(axis = 0) - self.w0\n",
    "            Y_pred[U >= border] = 1\n",
    "            return Y_pred\n",
    "\n",
    "    def score(self, X_val, Y_val, metric=Accuracy):\n",
    "        return metric(Y_val, self.predict(X_val))\n",
    "\n",
    "    def fit(self, X_train, Y_train):\n",
    "        X = X_train\n",
    "        Y = np.array(Y_train)\n",
    "        Y[Y_train == 0] = -1\n",
    "        smo = CustomSMO(X, Y, self.K, self.C, self.eps, self.maxsteps, self.linear)\n",
    "        self.svX, self.svY, self.l, self.w0 = smo.train()\n",
    "        if self.linear:\n",
    "            self.w = smo.get_weights()\n",
    "        return self\n",
    "\n",
    "    def __str__(self):\n",
    "        return \"Support Vector Machine\"\n",
    "\n",
    "    def __repr__(self):\n",
    "        return \"SVM\"\n",
    "    \n",
    "    \n",
    "    # returns support vectors with lambdas\n",
    "    def vectors(self):\n",
    "        return self.svX, self.l"
   ]
  },
  {
   "cell_type": "markdown",
   "metadata": {},
   "source": [
    "### Sklearn реализации"
   ]
  },
  {
   "cell_type": "code",
   "execution_count": 16,
   "metadata": {
    "_uuid": "a7081050c51df07b8af1cd18c9be61f041a97fb8"
   },
   "outputs": [],
   "source": [
    "from sklearn.linear_model import LogisticRegression\n",
    "from sklearn.neighbors import KNeighborsClassifier\n",
    "from sklearn.tree import DecisionTreeClassifier\n",
    "from sklearn.svm import SVC"
   ]
  },
  {
   "cell_type": "markdown",
   "metadata": {
    "_uuid": "ab1e49d83f39a6ddc780c394d3a052b49508c6ac"
   },
   "source": [
    "## Результаты классификации"
   ]
  },
  {
   "cell_type": "markdown",
   "metadata": {},
   "source": [
    "### Инструменты"
   ]
  },
  {
   "cell_type": "code",
   "execution_count": 38,
   "metadata": {
    "_uuid": "f14c88ae0a061de30566d336608d195ba89993d9"
   },
   "outputs": [],
   "source": [
    "import pandas as pd\n",
    "from sklearn.model_selection import train_test_split\n",
    "from sklearn import metrics\n",
    "from sklearn.metrics import classification_report\n",
    "from sklearn.model_selection import GridSearchCV\n",
    "from sklearn.model_selection import KFold\n",
    "from tqdm import tqdm\n",
    "import matplotlib.pyplot as plt\n",
    "import seaborn as sns"
   ]
  },
  {
   "cell_type": "code",
   "execution_count": 18,
   "metadata": {
    "_uuid": "cb0b2fc2a33afeed856e2b3cc986ffb9e3e3ae7b"
   },
   "outputs": [],
   "source": [
    "def conf_matrix(model, x, y):\n",
    "    y_pred = model.predict(x)\n",
    "    cnf_matrix = metrics.confusion_matrix(y, y_pred)\n",
    "    p = sns.heatmap(pd.DataFrame(cnf_matrix), annot=True, cmap=\"YlGnBu\" ,fmt='g')\n",
    "    plt.title('Confusion matrix', y=1.1)\n",
    "    plt.ylabel('Actual label')\n",
    "    plt.xlabel('Predicted label')"
   ]
  },
  {
   "cell_type": "code",
   "execution_count": 41,
   "metadata": {
    "_uuid": "6ac998149c1f0dd304b807707f0dc44dd2b2ffb3"
   },
   "outputs": [],
   "source": [
    "def metric_report(model, x, y):\n",
    "    y_pred = model.predict(x)\n",
    "    print(classification_report(y, y_pred))"
   ]
  },
  {
   "cell_type": "code",
   "execution_count": 20,
   "metadata": {},
   "outputs": [],
   "source": [
    "class CustomGridSearchCV:\n",
    "    def  __init__(self, model, param_grid, cv=5, random_state=42, metric=Accuracy):\n",
    "        self.model = model\n",
    "        self.grid = param_grid\n",
    "        self.cv = cv\n",
    "        self.kf = KFold(n_splits=cv, shuffle=True, random_state=random_state)\n",
    "        self.best_score_ = 0\n",
    "        self.best_params_ = None\n",
    "        self.metric = metric\n",
    "        \n",
    "    def fit(self, X, Y):\n",
    "        counter = np.zeros(len(self.grid)).astype(np.int16)\n",
    "        keys = tuple(self.grid.keys())\n",
    "        now_params = dict(self.grid)\n",
    "        num = 1\n",
    "        for key in keys:\n",
    "            num *= len(self.grid[key])\n",
    "        for _ in tqdm(range(num)):\n",
    "            # init params\n",
    "            for i in range(len(keys)):\n",
    "                now_params[keys[i]] = self.grid[keys[i]][counter[i]]\n",
    "            # get mean cross val score\n",
    "            score = 0.0\n",
    "            for train_idx, test_idx in self.kf.split(X):\n",
    "                X_train, X_test = X[train_idx], X[test_idx]\n",
    "                Y_train, Y_test = Y[train_idx], Y[test_idx]\n",
    "                model = self.model(**now_params)\n",
    "                model.fit(X_train, Y_train)\n",
    "                score += model.score(X_test, Y_test, metric=self.metric)\n",
    "            score /= self.cv\n",
    "            # update best\n",
    "            if score > self.best_score_:\n",
    "                self.best_score_ = score\n",
    "                self.best_params_ = dict(now_params)\n",
    "            k = -1\n",
    "            while True:\n",
    "                if k < -len(counter):\n",
    "                    return self\n",
    "                counter[k] += 1\n",
    "                if counter[k] < len(self.grid[keys[k]]):\n",
    "                    break\n",
    "                else:\n",
    "                    counter[k] = 0\n",
    "                    k -= 1"
   ]
  },
  {
   "cell_type": "markdown",
   "metadata": {},
   "source": [
    "### Импорт данных"
   ]
  },
  {
   "cell_type": "code",
   "execution_count": 21,
   "metadata": {},
   "outputs": [
    {
     "name": "stdout",
     "output_type": "stream",
     "text": [
      "clean_test.csv\t diabetes.csv\t  train_target.csv\r\n",
      "clean_train.csv  test_target.csv\r\n"
     ]
    }
   ],
   "source": [
    "! ls input"
   ]
  },
  {
   "cell_type": "code",
   "execution_count": 22,
   "metadata": {},
   "outputs": [],
   "source": [
    "X_train = pd.read_csv(\"input/clean_train.csv\").to_numpy()\n",
    "X_test = pd.read_csv(\"input/clean_test.csv\").to_numpy()\n",
    "y_train = pd.read_csv(\"input/train_target.csv\").to_numpy().ravel()\n",
    "y_test = pd.read_csv(\"input/test_target.csv\").to_numpy().ravel()"
   ]
  },
  {
   "cell_type": "markdown",
   "metadata": {
    "_uuid": "016a40668e45c0185ba011dc0f25f20512feabb3"
   },
   "source": [
    "### Подбор гиперпараметров\n",
    "\n",
    "Подберём гиперпараметры с помощью кросс-валидации на тренировочных данных и обучим модели из *sklearn* и реализованные мной:"
   ]
  },
  {
   "cell_type": "markdown",
   "metadata": {},
   "source": [
    "#### Логистическая регрессия"
   ]
  },
  {
   "cell_type": "code",
   "execution_count": 23,
   "metadata": {},
   "outputs": [
    {
     "name": "stdout",
     "output_type": "stream",
     "text": [
      "Best Score:0.7871501998857795\n",
      "Best Parameters: {'C': 0.18000000000000002}\n"
     ]
    },
    {
     "data": {
      "text/plain": [
       "LogisticRegression(C=0.18000000000000002, class_weight=None, dual=False,\n",
       "                   fit_intercept=True, intercept_scaling=1, l1_ratio=None,\n",
       "                   max_iter=100, multi_class='auto', n_jobs=None, penalty='l2',\n",
       "                   random_state=None, solver='lbfgs', tol=0.0001, verbose=0,\n",
       "                   warm_start=False)"
      ]
     },
     "execution_count": 23,
     "metadata": {},
     "output_type": "execute_result"
    }
   ],
   "source": [
    "param_grid = {'C':np.arange(0.1, 3, 0.04)}\n",
    "log_cv = GridSearchCV(LogisticRegression(),param_grid,cv=5)\n",
    "log_cv.fit(X_train, y_train)\n",
    "\n",
    "print(\"Best Score:\" + str(log_cv.best_score_))\n",
    "print(\"Best Parameters: \" + str(log_cv.best_params_))\n",
    "skllog = LogisticRegression(**log_cv.best_params_)\n",
    "skllog.fit(X_train, y_train)"
   ]
  },
  {
   "cell_type": "code",
   "execution_count": 24,
   "metadata": {},
   "outputs": [
    {
     "name": "stderr",
     "output_type": "stream",
     "text": [
      "100%|█████████▉| 218/219 [07:32<00:02,  2.08s/it]\n"
     ]
    },
    {
     "name": "stdout",
     "output_type": "stream",
     "text": [
      "Best Score:0.7891490576813249\n",
      "Best Parameters: {'C': 1.7800000000000005, 'reg_type': 'l2', 'speed': 0.8999999999999999}\n"
     ]
    },
    {
     "data": {
      "text/plain": [
       "Logistic Regression"
      ]
     },
     "execution_count": 24,
     "metadata": {},
     "output_type": "execute_result"
    }
   ],
   "source": [
    "param_grid = {'C':np.arange(0.1, 3, 0.04),\n",
    "              'reg_type': ['l2'], \n",
    "              'speed': np.arange(0.3, 1, 0.3)}\n",
    "log_cv= CustomGridSearchCV(CustomLogisticRegression, param_grid, cv=5)\n",
    "log_cv.fit(X_train, y_train)\n",
    "\n",
    "print(\"Best Score:\" + str(log_cv.best_score_))\n",
    "print(\"Best Parameters: \" + str(log_cv.best_params_))\n",
    "mylog = CustomLogisticRegression(**log_cv.best_params_)\n",
    "mylog.fit(X_train, y_train)"
   ]
  },
  {
   "cell_type": "markdown",
   "metadata": {},
   "source": [
    "#### K Ближайших соседей"
   ]
  },
  {
   "cell_type": "code",
   "execution_count": 26,
   "metadata": {
    "_uuid": "e369c794253b71d3daa1444fb7d11872fb8a110c"
   },
   "outputs": [
    {
     "name": "stdout",
     "output_type": "stream",
     "text": [
      "Best Score:0.7871121264039596\n",
      "Best Parameters: {'n_neighbors': 14}\n"
     ]
    },
    {
     "data": {
      "text/plain": [
       "KNeighborsClassifier(algorithm='auto', leaf_size=30, metric='minkowski',\n",
       "                     metric_params=None, n_jobs=None, n_neighbors=14, p=2,\n",
       "                     weights='uniform')"
      ]
     },
     "execution_count": 26,
     "metadata": {},
     "output_type": "execute_result"
    }
   ],
   "source": [
    "param_grid = {'n_neighbors':np.arange(1,65)}\n",
    "knn_cv= GridSearchCV(KNeighborsClassifier(),param_grid,cv=5)\n",
    "knn_cv.fit(X_train, y_train)\n",
    "\n",
    "print(\"Best Score:\" + str(knn_cv.best_score_))\n",
    "print(\"Best Parameters: \" + str(knn_cv.best_params_))\n",
    "sklknn = KNeighborsClassifier(**knn_cv.best_params_)\n",
    "sklknn.fit(X_train, y_train)"
   ]
  },
  {
   "cell_type": "code",
   "execution_count": 27,
   "metadata": {},
   "outputs": [
    {
     "name": "stderr",
     "output_type": "stream",
     "text": [
      " 98%|█████████▊| 63/64 [00:28<00:00,  2.19it/s]"
     ]
    },
    {
     "name": "stdout",
     "output_type": "stream",
     "text": [
      "Best Score:0.7617932609937178\n",
      "Best Parameters: {'k': 49, 'parsen_kernel': <function triqubical_kernel at 0x7f65960ab5f0>, 'metric': <function minkovski at 0x7f65960ab200>}\n"
     ]
    },
    {
     "name": "stderr",
     "output_type": "stream",
     "text": [
      "\n"
     ]
    },
    {
     "data": {
      "text/plain": [
       "KNN"
      ]
     },
     "execution_count": 27,
     "metadata": {},
     "output_type": "execute_result"
    }
   ],
   "source": [
    "param_grid = {'k':np.arange(1,65), \n",
    "              'parsen_kernel': [triqubical_kernel], \n",
    "              'metric': [minkovski]}\n",
    "knn_cv= CustomGridSearchCV(CustomKNN, param_grid, cv=5)\n",
    "knn_cv.fit(X_train, y_train)\n",
    "\n",
    "print(\"Best Score:\" + str(knn_cv.best_score_))\n",
    "print(\"Best Parameters: \" + str(knn_cv.best_params_))\n",
    "myknn = CustomKNN(**knn_cv.best_params_)\n",
    "myknn.fit(X_train, y_train)"
   ]
  },
  {
   "cell_type": "markdown",
   "metadata": {},
   "source": [
    "#### Решающее дерево"
   ]
  },
  {
   "cell_type": "code",
   "execution_count": 28,
   "metadata": {},
   "outputs": [
    {
     "name": "stdout",
     "output_type": "stream",
     "text": [
      "Best Score:0.76956025128498\n",
      "Best Parameters: {'ccp_alpha': 0.007}\n"
     ]
    },
    {
     "data": {
      "text/plain": [
       "DecisionTreeClassifier(ccp_alpha=0.007, class_weight=None, criterion='gini',\n",
       "                       max_depth=None, max_features=None, max_leaf_nodes=None,\n",
       "                       min_impurity_decrease=0.0, min_impurity_split=None,\n",
       "                       min_samples_leaf=1, min_samples_split=2,\n",
       "                       min_weight_fraction_leaf=0.0, presort='deprecated',\n",
       "                       random_state=None, splitter='best')"
      ]
     },
     "execution_count": 28,
     "metadata": {},
     "output_type": "execute_result"
    }
   ],
   "source": [
    "param_grid = {'ccp_alpha':np.arange(0.001, 0.1, 0.002)}\n",
    "tree_cv= GridSearchCV(DecisionTreeClassifier(),param_grid,cv=5)\n",
    "tree_cv.fit(X_train, y_train)\n",
    "\n",
    "print(\"Best Score:\" + str(tree_cv.best_score_))\n",
    "print(\"Best Parameters: \" + str(tree_cv.best_params_))\n",
    "skltree = DecisionTreeClassifier(**tree_cv.best_params_)\n",
    "skltree.fit(X_train, y_train)"
   ]
  },
  {
   "cell_type": "code",
   "execution_count": 29,
   "metadata": {},
   "outputs": [
    {
     "name": "stderr",
     "output_type": "stream",
     "text": [
      " 98%|█████████▊| 49/50 [01:24<00:01,  1.73s/it]\n"
     ]
    },
    {
     "name": "stdout",
     "output_type": "stream",
     "text": [
      "Best Score:0.7051779935275081\n",
      "Best Parameters: {'pruning_cost': 0.004}\n"
     ]
    },
    {
     "data": {
      "text/plain": [
       "Tree"
      ]
     },
     "execution_count": 29,
     "metadata": {},
     "output_type": "execute_result"
    }
   ],
   "source": [
    "param_grid = {'pruning_cost':np.arange(0.0 , 0.1, 0.002)}\n",
    "tree_cv= CustomGridSearchCV(CustomDescisionTree, param_grid, cv=5)\n",
    "tree_cv.fit(X_train, y_train)\n",
    "\n",
    "print(\"Best Score:\" + str(tree_cv.best_score_))\n",
    "print(\"Best Parameters: \" + str(tree_cv.best_params_))\n",
    "mytree = CustomDescisionTree(**tree_cv.best_params_)\n",
    "mytree.fit(X_train, y_train)"
   ]
  },
  {
   "cell_type": "markdown",
   "metadata": {},
   "source": [
    "#### Метод опорных векторов"
   ]
  },
  {
   "cell_type": "code",
   "execution_count": 33,
   "metadata": {},
   "outputs": [
    {
     "name": "stdout",
     "output_type": "stream",
     "text": [
      "Best Score:0.7870930896630497\n",
      "Best Parameters: {'C': 0.42000000000000004, 'gamma': 'auto'}\n"
     ]
    },
    {
     "data": {
      "text/plain": [
       "SVC(C=0.42000000000000004, break_ties=False, cache_size=200, class_weight=None,\n",
       "    coef0=0.0, decision_function_shape='ovr', degree=3, gamma='auto',\n",
       "    kernel='rbf', max_iter=-1, probability=False, random_state=None,\n",
       "    shrinking=True, tol=0.001, verbose=False)"
      ]
     },
     "execution_count": 33,
     "metadata": {},
     "output_type": "execute_result"
    }
   ],
   "source": [
    "param_grid = {'C':np.arange(0.1, 3, 0.04), 'gamma': ['auto']}\n",
    "svm_cv = GridSearchCV(SVC(),param_grid,cv=5)\n",
    "svm_cv.fit(X_train, y_train)\n",
    "\n",
    "print(\"Best Score:\" + str(svm_cv.best_score_))\n",
    "print(\"Best Parameters: \" + str(svm_cv.best_params_))\n",
    "sklsvm = SVC(**svm_cv.best_params_)\n",
    "sklsvm.fit(X_train, y_train)"
   ]
  },
  {
   "cell_type": "code",
   "execution_count": 32,
   "metadata": {},
   "outputs": [
    {
     "name": "stderr",
     "output_type": "stream",
     "text": [
      " 96%|█████████▌| 24/25 [07:49<00:19, 19.57s/it]\n"
     ]
    },
    {
     "name": "stdout",
     "output_type": "stream",
     "text": [
      "Best Score:0.7754616409670664\n",
      "Best Parameters: {'C': 0.9800000000000001}\n"
     ]
    },
    {
     "data": {
      "text/plain": [
       "SVM"
      ]
     },
     "execution_count": 32,
     "metadata": {},
     "output_type": "execute_result"
    }
   ],
   "source": [
    "param_grid = {'C':np.arange(0.1, 1.1, 0.04)}\n",
    "svm_cv = CustomGridSearchCV(CustomSVM,param_grid,cv=5)\n",
    "svm_cv.fit(X_train, y_train)\n",
    "\n",
    "print(\"Best Score:\" + str(svm_cv.best_score_))\n",
    "print(\"Best Parameters: \" + str(svm_cv.best_params_))\n",
    "mysvm = CustomSVM(**svm_cv.best_params_)\n",
    "mysvm.fit(X_train, y_train)"
   ]
  },
  {
   "cell_type": "markdown",
   "metadata": {},
   "source": [
    "### Качество моделей\n",
    "\n",
    "Оценим качество предсказаний на отложенной тестовой выборке"
   ]
  },
  {
   "cell_type": "markdown",
   "metadata": {},
   "source": [
    "#### sklearn логистическая регрессия\n"
   ]
  },
  {
   "cell_type": "code",
   "execution_count": 39,
   "metadata": {},
   "outputs": [
    {
     "data": {
      "image/png": "[encoded data removed]",
      "text/plain": [
       "<Figure size 432x288 with 2 Axes>"
      ]
     },
     "metadata": {
      "needs_background": "light"
     },
     "output_type": "display_data"
    }
   ],
   "source": [
    "conf_matrix(skllog, X_test, y_test)"
   ]
  },
  {
   "cell_type": "code",
   "execution_count": 42,
   "metadata": {},
   "outputs": [
    {
     "name": "stdout",
     "output_type": "stream",
     "text": [
      "              precision    recall  f1-score   support\n",
      "\n",
      "           0       0.77      0.84      0.80       167\n",
      "           1       0.64      0.54      0.59        89\n",
      "\n",
      "    accuracy                           0.73       256\n",
      "   macro avg       0.71      0.69      0.69       256\n",
      "weighted avg       0.73      0.73      0.73       256\n",
      "\n"
     ]
    }
   ],
   "source": [
    "metric_report(skllog, X_test, y_test)"
   ]
  },
  {
   "cell_type": "markdown",
   "metadata": {},
   "source": [
    "#### Моя логистическая регрессия"
   ]
  },
  {
   "cell_type": "code",
   "execution_count": 43,
   "metadata": {},
   "outputs": [
    {
     "data": {
      "image/png": "[encoded data removed]",
      "text/plain": [
       "<Figure size 432x288 with 2 Axes>"
      ]
     },
     "metadata": {
      "needs_background": "light"
     },
     "output_type": "display_data"
    }
   ],
   "source": [
    "conf_matrix(mylog, X_test, y_test)"
   ]
  },
  {
   "cell_type": "code",
   "execution_count": 44,
   "metadata": {},
   "outputs": [
    {
     "name": "stdout",
     "output_type": "stream",
     "text": [
      "              precision    recall  f1-score   support\n",
      "\n",
      "           0       0.74      0.89      0.81       167\n",
      "           1       0.67      0.40      0.50        89\n",
      "\n",
      "    accuracy                           0.72       256\n",
      "   macro avg       0.70      0.65      0.66       256\n",
      "weighted avg       0.71      0.72      0.70       256\n",
      "\n"
     ]
    }
   ],
   "source": [
    "metric_report(mylog, X_test, y_test)"
   ]
  },
  {
   "cell_type": "markdown",
   "metadata": {},
   "source": [
    "#### sklearn метод k ближайших соседей"
   ]
  },
  {
   "cell_type": "code",
   "execution_count": 46,
   "metadata": {},
   "outputs": [
    {
     "data": {
      "image/png": "[encoded data removed]",
      "text/plain": [
       "<Figure size 432x288 with 2 Axes>"
      ]
     },
     "metadata": {
      "needs_background": "light"
     },
     "output_type": "display_data"
    }
   ],
   "source": [
    "conf_matrix(sklknn, X_test, y_test)"
   ]
  },
  {
   "cell_type": "code",
   "execution_count": 45,
   "metadata": {},
   "outputs": [
    {
     "name": "stdout",
     "output_type": "stream",
     "text": [
      "              precision    recall  f1-score   support\n",
      "\n",
      "           0       0.76      0.87      0.81       167\n",
      "           1       0.66      0.48      0.56        89\n",
      "\n",
      "    accuracy                           0.73       256\n",
      "   macro avg       0.71      0.68      0.68       256\n",
      "weighted avg       0.73      0.73      0.72       256\n",
      "\n"
     ]
    }
   ],
   "source": [
    "metric_report(sklknn, X_test, y_test)"
   ]
  },
  {
   "cell_type": "markdown",
   "metadata": {},
   "source": [
    "#### Мой метод k ближайших сосоедей"
   ]
  },
  {
   "cell_type": "code",
   "execution_count": 47,
   "metadata": {},
   "outputs": [
    {
     "data": {
      "image/png": "[encoded data removed]",
      "text/plain": [
       "<Figure size 432x288 with 2 Axes>"
      ]
     },
     "metadata": {
      "needs_background": "light"
     },
     "output_type": "display_data"
    }
   ],
   "source": [
    "conf_matrix(myknn, X_test, y_test)"
   ]
  },
  {
   "cell_type": "code",
   "execution_count": 48,
   "metadata": {},
   "outputs": [
    {
     "name": "stdout",
     "output_type": "stream",
     "text": [
      "              precision    recall  f1-score   support\n",
      "\n",
      "           0       0.77      0.86      0.81       167\n",
      "           1       0.67      0.52      0.58        89\n",
      "\n",
      "    accuracy                           0.74       256\n",
      "   macro avg       0.72      0.69      0.70       256\n",
      "weighted avg       0.73      0.74      0.73       256\n",
      "\n"
     ]
    }
   ],
   "source": [
    "metric_report(myknn, X_test, y_test)"
   ]
  },
  {
   "cell_type": "markdown",
   "metadata": {},
   "source": [
    "#### sklearn решающее дерево"
   ]
  },
  {
   "cell_type": "code",
   "execution_count": 49,
   "metadata": {},
   "outputs": [
    {
     "data": {
      "image/png": "[encoded data removed]",
      "text/plain": [
       "<Figure size 432x288 with 2 Axes>"
      ]
     },
     "metadata": {
      "needs_background": "light"
     },
     "output_type": "display_data"
    }
   ],
   "source": [
    "conf_matrix(skltree, X_test, y_test)"
   ]
  },
  {
   "cell_type": "code",
   "execution_count": 50,
   "metadata": {},
   "outputs": [
    {
     "name": "stdout",
     "output_type": "stream",
     "text": [
      "              precision    recall  f1-score   support\n",
      "\n",
      "           0       0.75      0.87      0.81       167\n",
      "           1       0.65      0.46      0.54        89\n",
      "\n",
      "    accuracy                           0.73       256\n",
      "   macro avg       0.70      0.66      0.67       256\n",
      "weighted avg       0.72      0.73      0.71       256\n",
      "\n"
     ]
    }
   ],
   "source": [
    "metric_report(skltree, X_test, y_test)"
   ]
  },
  {
   "cell_type": "markdown",
   "metadata": {},
   "source": [
    "#### Мое решающее дерево"
   ]
  },
  {
   "cell_type": "code",
   "execution_count": 51,
   "metadata": {},
   "outputs": [
    {
     "data": {
      "image/png": "[encoded data removed]",
      "text/plain": [
       "<Figure size 432x288 with 2 Axes>"
      ]
     },
     "metadata": {
      "needs_background": "light"
     },
     "output_type": "display_data"
    }
   ],
   "source": [
    "conf_matrix(mytree, X_test, y_test)"
   ]
  },
  {
   "cell_type": "code",
   "execution_count": 52,
   "metadata": {},
   "outputs": [
    {
     "name": "stdout",
     "output_type": "stream",
     "text": [
      "              precision    recall  f1-score   support\n",
      "\n",
      "           0       0.72      0.87      0.79       167\n",
      "           1       0.60      0.37      0.46        89\n",
      "\n",
      "    accuracy                           0.70       256\n",
      "   macro avg       0.66      0.62      0.62       256\n",
      "weighted avg       0.68      0.70      0.67       256\n",
      "\n"
     ]
    }
   ],
   "source": [
    "metric_report(mytree, X_test, y_test)"
   ]
  },
  {
   "cell_type": "markdown",
   "metadata": {},
   "source": [
    "#### sklearn метод опорных векторов"
   ]
  },
  {
   "cell_type": "code",
   "execution_count": 53,
   "metadata": {},
   "outputs": [
    {
     "data": {
      "image/png": "[encoded data removed]",
      "text/plain": [
       "<Figure size 432x288 with 2 Axes>"
      ]
     },
     "metadata": {
      "needs_background": "light"
     },
     "output_type": "display_data"
    }
   ],
   "source": [
    "conf_matrix(sklsvm, X_test, y_test)"
   ]
  },
  {
   "cell_type": "code",
   "execution_count": 54,
   "metadata": {},
   "outputs": [
    {
     "name": "stdout",
     "output_type": "stream",
     "text": [
      "              precision    recall  f1-score   support\n",
      "\n",
      "           0       0.76      0.86      0.81       167\n",
      "           1       0.66      0.49      0.56        89\n",
      "\n",
      "    accuracy                           0.73       256\n",
      "   macro avg       0.71      0.68      0.69       256\n",
      "weighted avg       0.73      0.73      0.72       256\n",
      "\n"
     ]
    }
   ],
   "source": [
    "metric_report(sklsvm, X_test, y_test)"
   ]
  },
  {
   "cell_type": "markdown",
   "metadata": {},
   "source": [
    "#### Мой вектор опорных векторов"
   ]
  },
  {
   "cell_type": "code",
   "execution_count": 55,
   "metadata": {},
   "outputs": [
    {
     "data": {
      "image/png": "[encoded data removed]",
      "text/plain": [
       "<Figure size 432x288 with 2 Axes>"
      ]
     },
     "metadata": {
      "needs_background": "light"
     },
     "output_type": "display_data"
    }
   ],
   "source": [
    "conf_matrix(mysvm, X_test, y_test)"
   ]
  },
  {
   "cell_type": "code",
   "execution_count": 56,
   "metadata": {},
   "outputs": [
    {
     "name": "stdout",
     "output_type": "stream",
     "text": [
      "              precision    recall  f1-score   support\n",
      "\n",
      "           0       0.76      0.86      0.81       167\n",
      "           1       0.65      0.49      0.56        89\n",
      "\n",
      "    accuracy                           0.73       256\n",
      "   macro avg       0.70      0.68      0.68       256\n",
      "weighted avg       0.72      0.73      0.72       256\n",
      "\n"
     ]
    }
   ],
   "source": [
    "metric_report(mysvm, X_test, y_test)"
   ]
  },
  {
   "cell_type": "markdown",
   "metadata": {},
   "source": [
    "### Победитель"
   ]
  },
  {
   "cell_type": "markdown",
   "metadata": {},
   "source": [
    "<span style=\"color:green\"> Моя реализация метода k ближайших с расширением до метода окна Парзена с  трикубическим ядром.</span>"
   ]
  },
  {
   "cell_type": "code",
   "execution_count": 57,
   "metadata": {},
   "outputs": [
    {
     "name": "stdout",
     "output_type": "stream",
     "text": [
      "Best Accuracy: 0.7421875\n"
     ]
    },
    {
     "data": {
      "text/plain": [
       "KNN"
      ]
     },
     "execution_count": 57,
     "metadata": {},
     "output_type": "execute_result"
    }
   ],
   "source": [
    "print(\"Best Accuracy:\", myknn.score(X_test, y_test))\n",
    "myknn"
   ]
  },
  {
   "cell_type": "markdown",
   "metadata": {},
   "source": [
    "### Проигравший"
   ]
  },
  {
   "cell_type": "markdown",
   "metadata": {},
   "source": [
    "<span style=\"color:orange\"> Моя реализация решающего дерева с прунингом. </span>"
   ]
  },
  {
   "cell_type": "code",
   "execution_count": 58,
   "metadata": {},
   "outputs": [
    {
     "name": "stdout",
     "output_type": "stream",
     "text": [
      "Worst Accuracy: 0.6953125\n"
     ]
    },
    {
     "data": {
      "text/plain": [
       "Tree"
      ]
     },
     "execution_count": 58,
     "metadata": {},
     "output_type": "execute_result"
    }
   ],
   "source": [
    "print(\"Worst Accuracy:\", mytree.score(X_test, y_test))\n",
    "mytree"
   ]
  },
  {
   "cell_type": "markdown",
   "metadata": {},
   "source": [
    "## Вывод"
   ]
  },
  {
   "cell_type": "markdown",
   "metadata": {},
   "source": [
    "Моя реализация *метода k ближайших соседей* дает результаты аналогичные sklearn реализации, однако мой класс метода позволяет расширить его до *метода окна Парзена*, что заставляет классификатор учитывать расстояния до объектов, что интуитивно считается более правильным. \n",
    "\n",
    "Мое решающее дерево без прунинга дает результат сопостовимый с профессиональной реализацией, однако наши реализации имеют разную чувствительность к параметру стрижки $\\alpha$, из чего я делаю вывод, что возможно мне стоит перепроверить её реализацию.\n",
    "\n",
    "Отмечу, что моя реализация *SVM* очень достойно выглядит с линейным ядром, однако попытка использовать *RBF* сильно замедлила процесс классификации и дала неприлично плохой результат, из чего я делаю вывод, что скорей всего мне следует переписать функцию ядра. Однако написать корректное ядро - не моя задача, а класс метода позволяет пользователю задвать свои ядра в щависимости от предпочтений.\n",
    "\n",
    "Заметно, что решатель из профессиональной реализации, использующий метод спуска, основанный на *ньютоновских* методах, гораздо проще настраивается и находит лучший результат за приемлимое время.\n",
    "\n",
    "В целом я доволен своими реализациями, поскольку они показали очень достойный результат классификации, имея незначительное отстование по времени."
   ]
  }
 ],
 "metadata": {
  "kernelspec": {
   "display_name": "Python 3",
   "language": "python",
   "name": "python3"
  },
  "language_info": {
   "codemirror_mode": {
    "name": "ipython",
    "version": 3
   },
   "file_extension": ".py",
   "mimetype": "text/x-python",
   "name": "python",
   "nbconvert_exporter": "python",
   "pygments_lexer": "ipython3",
   "version": "3.7.6"
  }
 },
 "nbformat": 4,
 "nbformat_minor": 1
}
